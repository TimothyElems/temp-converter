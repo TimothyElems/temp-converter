{
 "cells": [
  {
   "cell_type": "markdown",
   "metadata": {},
   "source": [
    "# Temperature Converter - Tensorflow"
   ]
  },
  {
   "cell_type": "markdown",
   "metadata": {},
   "source": [
    "I tried desperately to tun this locall but couldn't. \n",
    "My setup isn't suited for Docker/Podman (RAM issues), so I ventured to work this with Google Colab.\n",
    "It works great!"
   ]
  },
  {
   "cell_type": "code",
   "execution_count": 2,
   "metadata": {},
   "outputs": [],
   "source": [
    "import tensorflow as tf\n",
    "import numpy as np\n",
   ]
  },
  {
   "cell_type": "markdown",
   "metadata": {},
   "source": [
    "Create arrays for the celcius and fahrenheit values. Make the arrays, floats\n"
   ]
  },
  {
   "cell_type": "code",
   "execution_count": 3,
   "metadata": {},
   "outputs": [],
   "source": [
    "celsius = np.array([-40, -10, 0, 8, 15, 22, 38], dtype=float)\n",
    "fahrenheit = np.array([-40, 14, 32, 46, 59, 72, 100], dtype=float)"
   ]
  },
  {
   "cell_type": "code",
   "execution_count": 4,
   "metadata": {},
   "outputs": [
    {
     "name": "stderr",
     "output_type": "stream",
     "text": [
      "/Library/Frameworks/Python.framework/Versions/3.11/lib/python3.11/site-packages/keras/src/layers/core/dense.py:88: UserWarning: Do not pass an `input_shape`/`input_dim` argument to a layer. When using Sequential models, prefer using an `Input(shape)` object as the first layer in the model instead.\n",
      "  super().__init__(activity_regularizer=activity_regularizer, **kwargs)\n"
     ]
    }
   ],
   "source": [
    "layer = tf.keras.layers.Dense(units=1, input_shape=[1])\n",
    "model = tf.keras.Sequential([layer])"
   ]
  },
  {
   "cell_type": "code",
   "execution_count": 5,
   "metadata": {},
   "outputs": [],
   "source": [
    "model.compile(\n",
    "    optimizer = tf.keras.optimizers.Adam(0.1),\n",
    "    loss = 'mean_squared_error'\n",
    ")"
   ]
  },
  {
   "cell_type": "code",
   "execution_count": 6,
   "metadata": {},
   "outputs": [],
   "source": [
    "results = model.fit(celsius, fahrenheit, epochs=100, verbose=False)"
   ]
  },
  {
   "cell_type": "code",
   "execution_count": 7,
   "metadata": {},
   "outputs": [
    {
     "data": {
      "text/plain": [
       "[<matplotlib.lines.Line2D at 0x17b90c710>]"
      ]
     },
     "execution_count": 7,
     "metadata": {},
     "output_type": "execute_result"
    },
    {
     "data": {
      "image/png": "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",
      "text/plain": [
       "<Figure size 640x480 with 1 Axes>"
      ]
     },
     "metadata": {},
     "output_type": "display_data"
    }
   ],
   "source": [
    "import matplotlib.pyplot as plt\n",
    "\n",
    "plt.xlabel('# epochs')\n",
    "plt.ylabel('Loss')\n",
    "plt.plot(results.history['loss'])"
   ]
  },
  {
   "cell_type": "code",
   "execution_count": 8,
   "metadata": {},
   "outputs": [
    {
     "ename": "ValueError",
     "evalue": "Unrecognized data type: x=100 (of type <class 'int'>)",
     "output_type": "error",
     "traceback": [
      "\u001b[0;31m---------------------------------------------------------------------------\u001b[0m",
      "\u001b[0;31mValueError\u001b[0m                                Traceback (most recent call last)",
      "Cell \u001b[0;32mIn[8], line 1\u001b[0m\n\u001b[0;32m----> 1\u001b[0m rez \u001b[38;5;241m=\u001b[39m \u001b[43mmodel\u001b[49m\u001b[38;5;241;43m.\u001b[39;49m\u001b[43mpredict\u001b[49m\u001b[43m(\u001b[49m\u001b[38;5;241;43m100\u001b[39;49m\u001b[43m)\u001b[49m\n\u001b[1;32m      3\u001b[0m \u001b[38;5;28mprint\u001b[39m(\u001b[38;5;124m\"\u001b[39m\u001b[38;5;124mThe result is \u001b[39m\u001b[38;5;124m\"\u001b[39m \u001b[38;5;241m+\u001b[39m\u001b[38;5;28mstr\u001b[39m(rez)\u001b[38;5;241m+\u001b[39m \u001b[38;5;124m\"\u001b[39m\u001b[38;5;124mfahrenheit\u001b[39m\u001b[38;5;124m\"\u001b[39m)\n",
      "File \u001b[0;32m/Library/Frameworks/Python.framework/Versions/3.11/lib/python3.11/site-packages/keras/src/utils/traceback_utils.py:122\u001b[0m, in \u001b[0;36mfilter_traceback.<locals>.error_handler\u001b[0;34m(*args, **kwargs)\u001b[0m\n\u001b[1;32m    119\u001b[0m     filtered_tb \u001b[38;5;241m=\u001b[39m _process_traceback_frames(e\u001b[38;5;241m.\u001b[39m__traceback__)\n\u001b[1;32m    120\u001b[0m     \u001b[38;5;66;03m# To get the full stack trace, call:\u001b[39;00m\n\u001b[1;32m    121\u001b[0m     \u001b[38;5;66;03m# `keras.config.disable_traceback_filtering()`\u001b[39;00m\n\u001b[0;32m--> 122\u001b[0m     \u001b[38;5;28;01mraise\u001b[39;00m e\u001b[38;5;241m.\u001b[39mwith_traceback(filtered_tb) \u001b[38;5;28;01mfrom\u001b[39;00m \u001b[38;5;28;01mNone\u001b[39;00m\n\u001b[1;32m    123\u001b[0m \u001b[38;5;28;01mfinally\u001b[39;00m:\n\u001b[1;32m    124\u001b[0m     \u001b[38;5;28;01mdel\u001b[39;00m filtered_tb\n",
      "File \u001b[0;32m/Library/Frameworks/Python.framework/Versions/3.11/lib/python3.11/site-packages/keras/src/trainers/data_adapters/__init__.py:113\u001b[0m, in \u001b[0;36mget_data_adapter\u001b[0;34m(x, y, sample_weight, batch_size, steps_per_epoch, shuffle, class_weight)\u001b[0m\n\u001b[1;32m    105\u001b[0m     \u001b[38;5;28;01mreturn\u001b[39;00m GeneratorDataAdapter(x)\n\u001b[1;32m    106\u001b[0m     \u001b[38;5;66;03m# TODO: should we warn or not?\u001b[39;00m\n\u001b[1;32m    107\u001b[0m     \u001b[38;5;66;03m# warnings.warn(\u001b[39;00m\n\u001b[1;32m    108\u001b[0m     \u001b[38;5;66;03m#     \"`shuffle=True` was passed, but will be ignored since the \"\u001b[39;00m\n\u001b[0;32m   (...)\u001b[0m\n\u001b[1;32m    111\u001b[0m     \u001b[38;5;66;03m# )\u001b[39;00m\n\u001b[1;32m    112\u001b[0m \u001b[38;5;28;01melse\u001b[39;00m:\n\u001b[0;32m--> 113\u001b[0m     \u001b[38;5;28;01mraise\u001b[39;00m \u001b[38;5;167;01mValueError\u001b[39;00m(\u001b[38;5;124mf\u001b[39m\u001b[38;5;124m\"\u001b[39m\u001b[38;5;124mUnrecognized data type: x=\u001b[39m\u001b[38;5;132;01m{\u001b[39;00mx\u001b[38;5;132;01m}\u001b[39;00m\u001b[38;5;124m (of type \u001b[39m\u001b[38;5;132;01m{\u001b[39;00m\u001b[38;5;28mtype\u001b[39m(x)\u001b[38;5;132;01m}\u001b[39;00m\u001b[38;5;124m)\u001b[39m\u001b[38;5;124m\"\u001b[39m)\n",
      "\u001b[0;31mValueError\u001b[0m: Unrecognized data type: x=100 (of type <class 'int'>)"
     ]
    }
   ],
   "source": [
    "rez = model.predict(100)\n",
    "\n",
    "print(\"The result is \" +str(rez)+ \"fahrenheit\")"
   ]
  },
  {
   "cell_type": "code",
   "execution_count": null,
   "metadata": {},
   "outputs": [],
   "source": []
  }
 ],
 "metadata": {
  "kernelspec": {
   "display_name": "Python 3",
   "language": "python",
   "name": "python3"
  },
  "language_info": {
   "codemirror_mode": {
    "name": "ipython",
    "version": 3
   },
   "file_extension": ".py",
   "mimetype": "text/x-python",
   "name": "python",
   "nbconvert_exporter": "python",
   "pygments_lexer": "ipython3",
   "version": "3.11.3"
  }
 },
 "nbformat": 4,
 "nbformat_minor": 2
}
